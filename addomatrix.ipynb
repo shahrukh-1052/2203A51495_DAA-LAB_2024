{
  "nbformat": 4,
  "nbformat_minor": 0,
  "metadata": {
    "colab": {
      "provenance": [],
      "include_colab_link": true
    },
    "kernelspec": {
      "name": "python3",
      "display_name": "Python 3"
    },
    "language_info": {
      "name": "python"
    }
  },
  "cells": [
    {
      "cell_type": "markdown",
      "metadata": {
        "id": "view-in-github",
        "colab_type": "text"
      },
      "source": [
        "<a href=\"https://colab.research.google.com/github/shahrukh-1052/2203A51495_DAA-LAB_2024/blob/main/addomatrix.ipynb\" target=\"_parent\"><img src=\"https://colab.research.google.com/assets/colab-badge.svg\" alt=\"Open In Colab\"/></a>"
      ]
    },
    {
      "cell_type": "markdown",
      "source": [
        "ADDITION OF **MATRIX**"
      ],
      "metadata": {
        "id": "PCPmy-tHCUXg"
      }
    },
    {
      "cell_type": "markdown",
      "metadata": {
        "id": "view-in-github"
      },
      "source": [
        "<a href=\"https://colab.research.google.com/github/udaykiran83358gmailcom/2203a51238-DAA/blob/main/week1.ipynb\" target=\"_parent\"><img src=\"https://colab.research.google.com/assets/colab-badge.svg\" alt=\"Open In Colab\"/></a>"
      ]
    },
    {
      "cell_type": "code",
      "execution_count": null,
      "metadata": {
        "colab": {
          "base_uri": "https://localhost:8080/"
        },
        "id": "SZxARovxbO69",
        "outputId": "51b4760b-87e3-4795-814c-c2a59009bb08"
      },
      "outputs": [
        {
          "output_type": "stream",
          "name": "stdout",
          "text": [
            "Overwriting addomatrix.c\n"
          ]
        }
      ],
      "source": [
        "%%writefile addomatrix.c\n",
        "#include <stdio.h>\n",
        "int main()\n",
        "{\n",
        "    int m, n, i, j;\n",
        "    printf(\"Enter the no. of rows : \");\n",
        "    scanf(\"%d\",&m);\n",
        "    printf(\"Enter the no. columns : \");\n",
        "    scanf(\"%d\",&n);\n",
        "    int a[m][n], b[m][n], sum[m][n];\n",
        "    printf(\"Enter the elements of first matrix:\\n\");\n",
        "    for(i=0;i<m;i++)\n",
        "\t{\n",
        "        for(j=0;j<n;j++)\n",
        "\t\t{\n",
        "            scanf(\"%d\",&a[i][j]);\n",
        "        }\n",
        "    }\n",
        "    printf(\"Enter the elements of second matrix:\\n\");\n",
        "    for(i=0;i<m;i++)\n",
        "\t {\n",
        "        for(j=0;j<n;j++)\n",
        "\t\t{\n",
        "            scanf(\"%d\",&b[i][j]);\n",
        "        }\n",
        "    }\n",
        "    for(i=0;i<m;i++)\n",
        "\t{\n",
        "        for(j=0;j<n;j++)\n",
        "\t\t{\n",
        "            sum[i][j] = a[i][j] + b[i][j];\n",
        "        }\n",
        "    }\n",
        "    printf(\"Sum of the matrices:\\n\");\n",
        "    for(i=0;i<m;i++)\n",
        "\t {\n",
        "        for(j=0;j<n;j++)\n",
        "\t\t{\n",
        "            printf(\"%d\\t\",sum[i][j]);\n",
        "        }\n",
        "        printf(\"\\n\");\n",
        "    }\n",
        "    return 0;\n",
        "}\n"
      ]
    },
    {
      "cell_type": "code",
      "source": [
        "\n",
        "!gcc addomatrix.c\n"
      ],
      "metadata": {
        "id": "8T4r9w3sc0bv"
      },
      "execution_count": null,
      "outputs": []
    },
    {
      "cell_type": "markdown",
      "source": [],
      "metadata": {
        "id": "Y67gtcuhB2j0"
      }
    },
    {
      "cell_type": "code",
      "source": [
        "!./a.out"
      ],
      "metadata": {
        "id": "4t_MPwatc8zd",
        "colab": {
          "base_uri": "https://localhost:8080/"
        },
        "outputId": "01b1e47e-e68a-49bf-b38c-424dcf729df4"
      },
      "execution_count": null,
      "outputs": [
        {
          "output_type": "stream",
          "name": "stdout",
          "text": [
            "Enter the no. of rows : 3\n",
            "Enter the no. columns : 3\n",
            "Enter the elements of first matrix:\n",
            "2\n",
            "3\n",
            "1\n",
            "4\n",
            "7\n",
            "4\n",
            "7\n",
            "8\n",
            "4\n",
            "Enter the elements of second matrix:\n",
            "8\n",
            "9\n",
            "2\n",
            "6\n",
            "1\n",
            "8\n",
            "2\n",
            "9\n",
            "5\n",
            "Sum of the matrices:\n",
            "10\t12\t3\t\n",
            "10\t8\t12\t\n",
            "9\t17\t9\t\n"
          ]
        }
      ]
    }
  ]
}