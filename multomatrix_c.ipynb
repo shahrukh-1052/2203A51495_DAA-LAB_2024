{
  "nbformat": 4,
  "nbformat_minor": 0,
  "metadata": {
    "colab": {
      "provenance": [],
      "authorship_tag": "ABX9TyOmIEsYIJKwFaxMvZPHi2lL",
      "include_colab_link": true
    },
    "kernelspec": {
      "name": "python3",
      "display_name": "Python 3"
    },
    "language_info": {
      "name": "python"
    }
  },
  "cells": [
    {
      "cell_type": "markdown",
      "metadata": {
        "id": "view-in-github",
        "colab_type": "text"
      },
      "source": [
        "<a href=\"https://colab.research.google.com/github/shahrukh-1052/2203A51495_DAA-LAB_2024/blob/main/multomatrix_c.ipynb\" target=\"_parent\"><img src=\"https://colab.research.google.com/assets/colab-badge.svg\" alt=\"Open In Colab\"/></a>"
      ]
    },
    {
      "cell_type": "markdown",
      "source": [
        "MULTIPLICATION OF **MATRIX**"
      ],
      "metadata": {
        "id": "qqXQWxgqOP3l"
      }
    },
    {
      "cell_type": "code",
      "execution_count": null,
      "metadata": {
        "colab": {
          "base_uri": "https://localhost:8080/"
        },
        "id": "s1wxb_hCOAL5",
        "outputId": "52944961-f3de-4a55-f194-f77df785a07e"
      },
      "outputs": [
        {
          "output_type": "stream",
          "name": "stdout",
          "text": [
            "Writing multomatrix.c\n"
          ]
        }
      ],
      "source": [
        "%%writefile multomatrix.c\n",
        "\n",
        "#include<stdio.h>\n",
        "int main()\n",
        "{\n",
        "    int m, n, p, i, j, k;\n",
        "    printf(\"Enter the no. of rows : \");\n",
        "    scanf(\"%d\",&m);\n",
        "    printf(\"Enter the no. of columns : \");\n",
        "    scanf(\"%d\",&n);\n",
        "    printf(\"Enter the no. of columns of the second matrix: \");\n",
        "    scanf(\"%d\",&p);\n",
        "    int a[m][n], b[n][p], product[m][p];\n",
        "    printf(\"Enter the elements of the first matrix:\\n\");\n",
        "    for(i=0;i<m;i++)\n",
        "\t{\n",
        "        for(j=0;j<n;j++)\n",
        "\t\t{\n",
        "            scanf(\"%d\",&a[i][j]);\n",
        "        }\n",
        "    }\n",
        "    printf(\"Enter the elements of the second matrix:\\n\");\n",
        "    for(i=0;i<n;i++)\n",
        "\t{\n",
        "        for(j=0;j<p;j++)\n",
        "\t\t{\n",
        "            scanf(\"%d\",&b[i][j]);\n",
        "        }\n",
        "    }\n",
        "    for(i=0;i<m;i++)\n",
        "\t{\n",
        "        for(j=0;j<p;j++)\n",
        "\t\t{\n",
        "            product[i][j] = 0;\n",
        "        }\n",
        "    }\n",
        "    for(i=0;i<m;i++)\n",
        "\t{\n",
        "        for(j=0;j<p;j++)\n",
        "\t\t{\n",
        "            for(k=0;k<n;k++)\n",
        "\t\t\t{\n",
        "                product[i][j] += a[i][k] * b[k][j];\n",
        "            }\n",
        "        }\n",
        "    }\n",
        "    printf(\"Product of the matrices:\\n\");\n",
        "    for(i=0;i<m;i++)\n",
        "\t{\n",
        "        for(j=0;j<p;j++)\n",
        "\t\t{\n",
        "            printf(\"%d\\t\",product[i][j]);\n",
        "        }\n",
        "        printf(\"\\n\");\n",
        "    }\n",
        "    return 0;\n",
        "}\n"
      ]
    },
    {
      "cell_type": "code",
      "source": [
        "!gcc multomatrix.c"
      ],
      "metadata": {
        "id": "8bvMgE96OCQm"
      },
      "execution_count": null,
      "outputs": []
    },
    {
      "cell_type": "code",
      "source": [
        "!./a.out"
      ],
      "metadata": {
        "colab": {
          "base_uri": "https://localhost:8080/"
        },
        "id": "sUetea29OCh7",
        "outputId": "56641eca-b9f1-45dd-b84b-491429f7e782"
      },
      "execution_count": null,
      "outputs": [
        {
          "output_type": "stream",
          "name": "stdout",
          "text": [
            "Enter the no. of rows : 3\n",
            "Enter the no. of columns : 3\n",
            "Enter the no. of columns of the second matrix: 3\n",
            "Enter the elements of the first matrix:\n",
            "2\n",
            "3\n",
            "4\n",
            "7\n",
            "6\n",
            "7\n",
            "9\n",
            "3\n",
            "4\n",
            "Enter the elements of the second matrix:\n",
            "5\n",
            "7\n",
            "4\n",
            "6\n",
            "8\n",
            "9\n",
            "5\n",
            "7\n",
            "8\n",
            "Product of the matrices:\n",
            "48\t66\t67\t\n",
            "106\t146\t138\t\n",
            "83\t115\t95\t\n"
          ]
        }
      ]
    }
  ]
}