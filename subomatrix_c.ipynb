{
  "nbformat": 4,
  "nbformat_minor": 0,
  "metadata": {
    "colab": {
      "provenance": [],
      "authorship_tag": "ABX9TyM1ZP0yG/xQwBaYBoS1Ui3H",
      "include_colab_link": true
    },
    "kernelspec": {
      "name": "python3",
      "display_name": "Python 3"
    },
    "language_info": {
      "name": "python"
    }
  },
  "cells": [
    {
      "cell_type": "markdown",
      "metadata": {
        "id": "view-in-github",
        "colab_type": "text"
      },
      "source": [
        "<a href=\"https://colab.research.google.com/github/shahrukh-1052/2203A51495_DAA-LAB_2024/blob/main/subomatrix_c.ipynb\" target=\"_parent\"><img src=\"https://colab.research.google.com/assets/colab-badge.svg\" alt=\"Open In Colab\"/></a>"
      ]
    },
    {
      "cell_type": "markdown",
      "source": [
        "SUBTRACTION OF **MATRIX**"
      ],
      "metadata": {
        "id": "rZ1bjIixKRXr"
      }
    },
    {
      "cell_type": "code",
      "execution_count": null,
      "metadata": {
        "colab": {
          "base_uri": "https://localhost:8080/"
        },
        "id": "h5RZqXEoJa9g",
        "outputId": "b635cadd-96a8-4e35-8bc5-64dd9337dbb3"
      },
      "outputs": [
        {
          "output_type": "stream",
          "name": "stdout",
          "text": [
            "Writing subomatrix.c\n"
          ]
        }
      ],
      "source": [
        "%%writefile subomatrix.c\n",
        "\n",
        "#include <stdio.h>\n",
        "int main()\n",
        "{\n",
        "    int m, n, i, j;\n",
        "    printf(\"Enter the no. of rows : \");\n",
        "    scanf(\"%d\",&m);\n",
        "    printf(\"Enter the no. columns : \");\n",
        "    scanf(\"%d\",&n);\n",
        "    int a[m][n], b[m][n], difference[m][n];\n",
        "    printf(\"Enter the elements of the first matrix:\\n\");\n",
        "    for(i=0;i<m;i++)\n",
        "\t{\n",
        "        for(j=0;j<n;j++)\n",
        "\t\t {\n",
        "            scanf(\"%d\",&a[i][j]);\n",
        "        }\n",
        "    }\n",
        "    printf(\"Enter the elements of the second matrix:\\n\");\n",
        "    for(i=0;i<m;i++)\n",
        "\t{\n",
        "        for(j=0;j<n;j++)\n",
        "\t\t{\n",
        "            scanf(\"%d\",&b[i][j]);\n",
        "        }\n",
        "    }\n",
        "    for(i=0;i<m;i++)\n",
        "\t{\n",
        "        for(j=0;j<n;j++)\n",
        "\t\t{\n",
        "            difference[i][j] = a[i][j] - b[i][j];\n",
        "        }\n",
        "    }\n",
        "    printf(\"Difference of the matrices:\\n\");\n",
        "    for(i=0;i<m;i++)\n",
        "\t {\n",
        "        for(j=0;j<n;j++)\n",
        "\t\t{\n",
        "            printf(\"%d\\t\",difference[i][j]);\n",
        "        }\n",
        "        printf(\"\\n\");\n",
        "    }\n",
        "    return 0;\n",
        "}\n"
      ]
    },
    {
      "cell_type": "code",
      "source": [
        "!gcc subomatrix.c"
      ],
      "metadata": {
        "id": "oRRaeDbeJj6a"
      },
      "execution_count": null,
      "outputs": []
    },
    {
      "cell_type": "code",
      "source": [
        "!./a.out"
      ],
      "metadata": {
        "colab": {
          "base_uri": "https://localhost:8080/"
        },
        "id": "IQjwYXbCJkRQ",
        "outputId": "b0ccc411-371e-4771-c3c0-42b2b33cd6c7"
      },
      "execution_count": null,
      "outputs": [
        {
          "output_type": "stream",
          "name": "stdout",
          "text": [
            "Enter the no. of rows : 3\n",
            "Enter the no. columns : 3\n",
            "Enter the elements of the first matrix:\n",
            "9\n",
            "8\n",
            "7\n",
            "6\n",
            "9\n",
            "8\n",
            "7\n",
            "5\n",
            "5\n",
            "Enter the elements of the second matrix:\n",
            "3\n",
            "4\n",
            "6\n",
            "2\n",
            "1\n",
            "5\n",
            "3\n",
            "5\n",
            "1\n",
            "Difference of the matrices:\n",
            "6\t4\t1\t\n",
            "4\t8\t3\t\n",
            "4\t0\t4\t\n"
          ]
        }
      ]
    }
  ]
}